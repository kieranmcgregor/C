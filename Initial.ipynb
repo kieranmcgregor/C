{
  "nbformat": 4,
  "nbformat_minor": 0,
  "metadata": {
    "colab": {
      "name": "Initial.ipynb",
      "provenance": [],
      "collapsed_sections": [],
      "authorship_tag": "ABX9TyOK5Aq++NEprNdwr/xJ1VyA",
      "include_colab_link": true
    },
    "kernelspec": {
      "name": "python3",
      "display_name": "Python 3"
    }
  },
  "cells": [
    {
      "cell_type": "markdown",
      "metadata": {
        "id": "view-in-github",
        "colab_type": "text"
      },
      "source": [
        "<a href=\"https://colab.research.google.com/github/kieranmcgregor/C/blob/master/Initial.ipynb\" target=\"_parent\"><img src=\"https://colab.research.google.com/assets/colab-badge.svg\" alt=\"Open In Colab\"/></a>"
      ]
    },
    {
      "cell_type": "markdown",
      "metadata": {
        "id": "6CpdFHKVX19C"
      },
      "source": [
        "Import TensorFlow"
      ]
    },
    {
      "cell_type": "code",
      "metadata": {
        "id": "SnwKRQYLW_U3"
      },
      "source": [
        "import tensorflow as tf"
      ],
      "execution_count": 62,
      "outputs": []
    },
    {
      "cell_type": "markdown",
      "metadata": {
        "id": "x1Gmd9aFX6Z9"
      },
      "source": [
        "Check TensorFlow version"
      ]
    },
    {
      "cell_type": "code",
      "metadata": {
        "colab": {
          "base_uri": "https://localhost:8080/"
        },
        "id": "M3hPFMuuXWZc",
        "outputId": "afb27b2e-2b4a-4d0f-fa3d-0e1d1f869b0d"
      },
      "source": [
        "print(tf.__version__)"
      ],
      "execution_count": 63,
      "outputs": [
        {
          "output_type": "stream",
          "text": [
            "2.4.1\n"
          ],
          "name": "stdout"
        }
      ]
    },
    {
      "cell_type": "markdown",
      "metadata": {
        "id": "FZjSpzbOX9Zi"
      },
      "source": [
        "Check Python version"
      ]
    },
    {
      "cell_type": "code",
      "metadata": {
        "colab": {
          "base_uri": "https://localhost:8080/"
        },
        "id": "KVEiRU1LXjSy",
        "outputId": "4db188f6-557c-4280-8b77-de75852cd78e"
      },
      "source": [
        "from platform import python_version\r\n",
        "print(python_version())"
      ],
      "execution_count": 64,
      "outputs": [
        {
          "output_type": "stream",
          "text": [
            "3.7.10\n"
          ],
          "name": "stdout"
        }
      ]
    },
    {
      "cell_type": "markdown",
      "metadata": {
        "id": "3gq9orsWYCuW"
      },
      "source": [
        "Initialization of Tensor"
      ]
    },
    {
      "cell_type": "code",
      "metadata": {
        "colab": {
          "base_uri": "https://localhost:8080/"
        },
        "id": "NLCOKt6-YFEt",
        "outputId": "07292074-3332-4f89-fc25-0f32cd8332aa"
      },
      "source": [
        "x = tf.constant(3)\r\n",
        "print(x)"
      ],
      "execution_count": 65,
      "outputs": [
        {
          "output_type": "stream",
          "text": [
            "tf.Tensor(3, shape=(), dtype=int32)\n"
          ],
          "name": "stdout"
        }
      ]
    },
    {
      "cell_type": "code",
      "metadata": {
        "colab": {
          "base_uri": "https://localhost:8080/"
        },
        "id": "zwSVIZeUYOGk",
        "outputId": "4bc25cf5-e628-4651-cae5-7f04ad62f99e"
      },
      "source": [
        "x = tf.constant([[2, 3, 4], [4,5,6,]], dtype=tf.float32)\r\n",
        "print(x)"
      ],
      "execution_count": 66,
      "outputs": [
        {
          "output_type": "stream",
          "text": [
            "tf.Tensor(\n",
            "[[2. 3. 4.]\n",
            " [4. 5. 6.]], shape=(2, 3), dtype=float32)\n"
          ],
          "name": "stdout"
        }
      ]
    },
    {
      "cell_type": "markdown",
      "metadata": {
        "id": "0uUxdeAeYqls"
      },
      "source": [
        "Creating N-dimensional Value"
      ]
    },
    {
      "cell_type": "code",
      "metadata": {
        "colab": {
          "base_uri": "https://localhost:8080/"
        },
        "id": "MeaqA4wdYnNk",
        "outputId": "fc12a2bc-6114-444a-e91c-c417f943e75c"
      },
      "source": [
        "x = tf.ones((5,7),dtype=tf.float32)\r\n",
        "print(x)"
      ],
      "execution_count": 67,
      "outputs": [
        {
          "output_type": "stream",
          "text": [
            "tf.Tensor(\n",
            "[[1. 1. 1. 1. 1. 1. 1.]\n",
            " [1. 1. 1. 1. 1. 1. 1.]\n",
            " [1. 1. 1. 1. 1. 1. 1.]\n",
            " [1. 1. 1. 1. 1. 1. 1.]\n",
            " [1. 1. 1. 1. 1. 1. 1.]], shape=(5, 7), dtype=float32)\n"
          ],
          "name": "stdout"
        }
      ]
    },
    {
      "cell_type": "code",
      "metadata": {
        "colab": {
          "base_uri": "https://localhost:8080/"
        },
        "id": "m9i-a1taXyxZ",
        "outputId": "16714327-d68f-459d-f172-6baddfbce7b0"
      },
      "source": [
        "x = tf.ones((5,),dtype=tf.float32)\r\n",
        "print(x)"
      ],
      "execution_count": 68,
      "outputs": [
        {
          "output_type": "stream",
          "text": [
            "tf.Tensor([1. 1. 1. 1. 1.], shape=(5,), dtype=float32)\n"
          ],
          "name": "stdout"
        }
      ]
    },
    {
      "cell_type": "code",
      "metadata": {
        "colab": {
          "base_uri": "https://localhost:8080/"
        },
        "id": "74FFC2rYZIig",
        "outputId": "a68fe6df-8cbb-4002-b14c-54279af050fa"
      },
      "source": [
        "x = tf.zeros((3,3, 3),dtype=tf.float32)\r\n",
        "print(x)"
      ],
      "execution_count": 69,
      "outputs": [
        {
          "output_type": "stream",
          "text": [
            "tf.Tensor(\n",
            "[[[0. 0. 0.]\n",
            "  [0. 0. 0.]\n",
            "  [0. 0. 0.]]\n",
            "\n",
            " [[0. 0. 0.]\n",
            "  [0. 0. 0.]\n",
            "  [0. 0. 0.]]\n",
            "\n",
            " [[0. 0. 0.]\n",
            "  [0. 0. 0.]\n",
            "  [0. 0. 0.]]], shape=(3, 3, 3), dtype=float32)\n"
          ],
          "name": "stdout"
        }
      ]
    },
    {
      "cell_type": "markdown",
      "metadata": {
        "id": "Wejn2vt6ZQr4"
      },
      "source": [
        "Creating Identitiy Matrix"
      ]
    },
    {
      "cell_type": "code",
      "metadata": {
        "colab": {
          "base_uri": "https://localhost:8080/"
        },
        "id": "7rGD4sEhZS2x",
        "outputId": "d4ac5186-c301-4fbd-e9fa-4ddc0587cdcf"
      },
      "source": [
        "x = tf.eye(5, dtype=tf.int64)\r\n",
        "print(x)"
      ],
      "execution_count": 70,
      "outputs": [
        {
          "output_type": "stream",
          "text": [
            "tf.Tensor(\n",
            "[[1 0 0 0 0]\n",
            " [0 1 0 0 0]\n",
            " [0 0 1 0 0]\n",
            " [0 0 0 1 0]\n",
            " [0 0 0 0 1]], shape=(5, 5), dtype=int64)\n"
          ],
          "name": "stdout"
        }
      ]
    },
    {
      "cell_type": "code",
      "metadata": {
        "colab": {
          "base_uri": "https://localhost:8080/"
        },
        "id": "JlF9A5JeZfXH",
        "outputId": "4952169d-a963-4be8-8de8-548609d8d4bb"
      },
      "source": [
        "#Creating array of random values\r\n",
        "\r\n",
        "x = tf.random.uniform((5, 3),minval = 1, maxval=100, dtype=tf.int64)\r\n",
        "print(x)"
      ],
      "execution_count": 71,
      "outputs": [
        {
          "output_type": "stream",
          "text": [
            "tf.Tensor(\n",
            "[[10 10 36]\n",
            " [48 48 77]\n",
            " [31 99 80]\n",
            " [ 1 67 90]\n",
            " [72 20 49]], shape=(5, 3), dtype=int64)\n"
          ],
          "name": "stdout"
        }
      ]
    },
    {
      "cell_type": "code",
      "metadata": {
        "colab": {
          "base_uri": "https://localhost:8080/"
        },
        "id": "ue7nwkV4aFJN",
        "outputId": "016d9bff-9eb2-4981-86a1-d5cd89e72fe8"
      },
      "source": [
        "x = tf.random.normal((3,3,3))\r\n",
        "print(x)"
      ],
      "execution_count": 72,
      "outputs": [
        {
          "output_type": "stream",
          "text": [
            "tf.Tensor(\n",
            "[[[ 1.3197495  -0.6333427   0.33242777]\n",
            "  [-0.1619738  -0.7560965  -1.0209843 ]\n",
            "  [-0.8411585  -1.556381    2.8021472 ]]\n",
            "\n",
            " [[ 0.27379218  0.7968468  -1.0636035 ]\n",
            "  [ 0.7333488  -1.4382119   0.26776454]\n",
            "  [ 1.4037865   1.8115947  -0.6018658 ]]\n",
            "\n",
            " [[-1.7049814   0.07835011  0.9673544 ]\n",
            "  [ 0.45663476 -0.7754563  -0.41995084]\n",
            "  [ 1.2108089   1.0777223  -0.6935262 ]]], shape=(3, 3, 3), dtype=float32)\n"
          ],
          "name": "stdout"
        }
      ]
    },
    {
      "cell_type": "code",
      "metadata": {
        "colab": {
          "base_uri": "https://localhost:8080/"
        },
        "id": "HkY7xoGqaVbA",
        "outputId": "cfd1a6b6-10af-40b6-b9c5-9af37e963164"
      },
      "source": [
        "x = tf.linspace(0,10,5)\r\n",
        "print(x)"
      ],
      "execution_count": 73,
      "outputs": [
        {
          "output_type": "stream",
          "text": [
            "tf.Tensor([ 0.   2.5  5.   7.5 10. ], shape=(5,), dtype=float64)\n"
          ],
          "name": "stdout"
        }
      ]
    },
    {
      "cell_type": "code",
      "metadata": {
        "colab": {
          "base_uri": "https://localhost:8080/"
        },
        "id": "42R5jrrYanOR",
        "outputId": "ef020ffd-2386-4616-dce0-4c074f2b7ac0"
      },
      "source": [
        "x = tf.range(start=0, limit=10, delta=3)\r\n",
        "print(x)\r\n",
        "x=tf.cast(x, dtype=tf.float32)\r\n",
        "print(x)"
      ],
      "execution_count": 74,
      "outputs": [
        {
          "output_type": "stream",
          "text": [
            "tf.Tensor([0 3 6 9], shape=(4,), dtype=int32)\n",
            "tf.Tensor([0. 3. 6. 9.], shape=(4,), dtype=float32)\n"
          ],
          "name": "stdout"
        }
      ]
    },
    {
      "cell_type": "markdown",
      "metadata": {
        "id": "QOu2whw4crc1"
      },
      "source": [
        "Mathematical Operations"
      ]
    },
    {
      "cell_type": "code",
      "metadata": {
        "colab": {
          "base_uri": "https://localhost:8080/"
        },
        "id": "1DOSQRlLcuNV",
        "outputId": "608149c9-32c2-40a8-c3fd-e1ce947e5a0e"
      },
      "source": [
        "a = tf.constant([[1,2,3],[95,0,6]])\r\n",
        "b = tf.constant([[4,5,6],[1,2,3]])\r\n",
        "z = a + b\r\n",
        "print(z)\r\n",
        "z=tf.add(a,b)\r\n",
        "print(z)\r\n",
        "z = a - b\r\n",
        "print(z)"
      ],
      "execution_count": 78,
      "outputs": [
        {
          "output_type": "stream",
          "text": [
            "tf.Tensor(\n",
            "[[ 5  7  9]\n",
            " [96  2  9]], shape=(2, 3), dtype=int32)\n",
            "tf.Tensor(\n",
            "[[ 5  7  9]\n",
            " [96  2  9]], shape=(2, 3), dtype=int32)\n",
            "tf.Tensor(\n",
            "[[-3 -3 -3]\n",
            " [94 -2  3]], shape=(2, 3), dtype=int32)\n"
          ],
          "name": "stdout"
        }
      ]
    },
    {
      "cell_type": "markdown",
      "metadata": {
        "id": "qHVIycV_dwNY"
      },
      "source": [
        "Dot Product"
      ]
    },
    {
      "cell_type": "code",
      "metadata": {
        "colab": {
          "base_uri": "https://localhost:8080/"
        },
        "id": "_JBZmigFdxmJ",
        "outputId": "264d9a76-2d5d-4c80-dad2-2ed8711ee8d4"
      },
      "source": [
        "a = tf.constant([1,2,3])\r\n",
        "b = tf.constant([4,5,6])\r\n",
        "\r\n",
        "# Inner product\r\n",
        "z = tf.tensordot(a,b,axes=1)\r\n",
        "print(z)\r\n",
        "\r\n",
        "# Outer product\r\n",
        "z = tf.tensordot(a,b,axes=0)\r\n",
        "print(z)"
      ],
      "execution_count": 81,
      "outputs": [
        {
          "output_type": "stream",
          "text": [
            "tf.Tensor(32, shape=(), dtype=int32)\n",
            "tf.Tensor(\n",
            "[[ 4  5  6]\n",
            " [ 8 10 12]\n",
            " [12 15 18]], shape=(3, 3), dtype=int32)\n"
          ],
          "name": "stdout"
        }
      ]
    },
    {
      "cell_type": "markdown",
      "metadata": {
        "id": "JciofTKveeuI"
      },
      "source": [
        "Matrix Multiplication"
      ]
    },
    {
      "cell_type": "code",
      "metadata": {
        "colab": {
          "base_uri": "https://localhost:8080/"
        },
        "id": "Ebm6TK-jegXM",
        "outputId": "f1a79b41-2207-4af5-f402-e15fc430becf"
      },
      "source": [
        "a = tf.random.normal((2,3))\r\n",
        "b = tf.random.normal((3,2))\r\n",
        "z = tf.matmul(a, b)\r\n",
        "print(z)\r\n",
        "z = a@b\r\n",
        "print(z)"
      ],
      "execution_count": 83,
      "outputs": [
        {
          "output_type": "stream",
          "text": [
            "tf.Tensor(\n",
            "[[ 1.9672446  1.5347931]\n",
            " [-2.5563986  1.9263031]], shape=(2, 2), dtype=float32)\n",
            "tf.Tensor(\n",
            "[[ 1.9672446  1.5347931]\n",
            " [-2.5563986  1.9263031]], shape=(2, 2), dtype=float32)\n"
          ],
          "name": "stdout"
        }
      ]
    },
    {
      "cell_type": "markdown",
      "metadata": {
        "id": "sdfRuSXte8Af"
      },
      "source": [
        "Indexing"
      ]
    },
    {
      "cell_type": "code",
      "metadata": {
        "colab": {
          "base_uri": "https://localhost:8080/"
        },
        "id": "c-_KqhlBe-kh",
        "outputId": "02b787c2-d6dd-4453-f1ea-93fcf501741f"
      },
      "source": [
        "x = tf.constant([[1,2,3],[4,5,6],[7,8,9]])\r\n",
        "print(x)"
      ],
      "execution_count": 84,
      "outputs": [
        {
          "output_type": "stream",
          "text": [
            "tf.Tensor(\n",
            "[[1 2 3]\n",
            " [4 5 6]\n",
            " [7 8 9]], shape=(3, 3), dtype=int32)\n"
          ],
          "name": "stdout"
        }
      ]
    },
    {
      "cell_type": "code",
      "metadata": {
        "colab": {
          "base_uri": "https://localhost:8080/"
        },
        "id": "wmprWDW3fc7H",
        "outputId": "87d79f25-36f3-44c9-c832-612eaa5f92d5"
      },
      "source": [
        "print(x[1,0])"
      ],
      "execution_count": 87,
      "outputs": [
        {
          "output_type": "stream",
          "text": [
            "tf.Tensor(4, shape=(), dtype=int32)\n"
          ],
          "name": "stdout"
        }
      ]
    },
    {
      "cell_type": "code",
      "metadata": {
        "colab": {
          "base_uri": "https://localhost:8080/"
        },
        "id": "31v_HyjMf1Y9",
        "outputId": "430e0def-fc63-4843-a370-44ea36bc194c"
      },
      "source": [
        "print(x[1:,0:2])"
      ],
      "execution_count": 89,
      "outputs": [
        {
          "output_type": "stream",
          "text": [
            "tf.Tensor(\n",
            "[[4 5]\n",
            " [7 8]], shape=(2, 2), dtype=int32)\n"
          ],
          "name": "stdout"
        }
      ]
    },
    {
      "cell_type": "code",
      "metadata": {
        "colab": {
          "base_uri": "https://localhost:8080/"
        },
        "id": "-x_0-WPogc4h",
        "outputId": "d01cd6df-73d9-40ea-e204-0b4e81930ba5"
      },
      "source": [
        "x = tf.constant([0,4,2,5,7,8,90,10])\r\n",
        "print(x)\r\n",
        "print(x[2:4])\r\n",
        "print(x[::3])\r\n",
        "print(x[-1::-3])"
      ],
      "execution_count": 96,
      "outputs": [
        {
          "output_type": "stream",
          "text": [
            "tf.Tensor([ 0  4  2  5  7  8 90 10], shape=(8,), dtype=int32)\n",
            "tf.Tensor([2 5], shape=(2,), dtype=int32)\n",
            "tf.Tensor([ 0  5 90], shape=(3,), dtype=int32)\n",
            "tf.Tensor([10  7  4], shape=(3,), dtype=int32)\n"
          ],
          "name": "stdout"
        }
      ]
    },
    {
      "cell_type": "markdown",
      "metadata": {
        "id": "aht3MITdgnED"
      },
      "source": [
        "Reshaping"
      ]
    },
    {
      "cell_type": "code",
      "metadata": {
        "colab": {
          "base_uri": "https://localhost:8080/"
        },
        "id": "P6_f_-wNgmEE",
        "outputId": "f22fd647-fd5d-488b-c254-a61822a400b5"
      },
      "source": [
        "x = tf.range(6)\r\n",
        "print(x)\r\n",
        "x = tf.reshape(x,(3,2))\r\n",
        "print(x)"
      ],
      "execution_count": 97,
      "outputs": [
        {
          "output_type": "stream",
          "text": [
            "tf.Tensor([0 1 2 3 4 5], shape=(6,), dtype=int32)\n",
            "tf.Tensor(\n",
            "[[0 1]\n",
            " [2 3]\n",
            " [4 5]], shape=(3, 2), dtype=int32)\n"
          ],
          "name": "stdout"
        }
      ]
    },
    {
      "cell_type": "code",
      "metadata": {
        "colab": {
          "base_uri": "https://localhost:8080/"
        },
        "id": "I7BbiCAbh4Ks",
        "outputId": "8e66a204-54df-421c-e4a5-96a6b2fa4670"
      },
      "source": [
        "x = tf.transpose(x, perm=[1,0])\r\n",
        "print(x)"
      ],
      "execution_count": 99,
      "outputs": [
        {
          "output_type": "stream",
          "text": [
            "tf.Tensor(\n",
            "[[0 2 4]\n",
            " [1 3 5]], shape=(2, 3), dtype=int32)\n"
          ],
          "name": "stdout"
        }
      ]
    },
    {
      "cell_type": "markdown",
      "metadata": {
        "id": "oPEuhVsQkZz8"
      },
      "source": [
        "Testing GitHub"
      ]
    },
    {
      "cell_type": "code",
      "metadata": {
        "colab": {
          "base_uri": "https://localhost:8080/"
        },
        "id": "YHvV4eTukb1M",
        "outputId": "db5bdd73-bbd2-426d-a9e7-aadadcae4c15"
      },
      "source": [
        "print(\"Hello github\")\r\n",
        "x = [[2,3,4,5],[6,5,4,3]]\r\n",
        "print(x[1][3])\r\n",
        "x = tf.constant([[2,3,4,5],[6,5,4,3]])\r\n",
        "print(x[1,3])"
      ],
      "execution_count": 105,
      "outputs": [
        {
          "output_type": "stream",
          "text": [
            "Hello github\n",
            "3\n",
            "tf.Tensor(3, shape=(), dtype=int32)\n"
          ],
          "name": "stdout"
        }
      ]
    },
    {
      "cell_type": "markdown",
      "metadata": {
        "id": "RM62dTNLlS_n"
      },
      "source": [
        "Testing HotKeys"
      ]
    },
    {
      "cell_type": "code",
      "metadata": {
        "colab": {
          "base_uri": "https://localhost:8080/"
        },
        "id": "knc4D1QrlYJv",
        "outputId": "86486714-789f-46a4-db33-213ad41b0e54"
      },
      "source": [
        "print(\"Can you here me now?\")"
      ],
      "execution_count": 106,
      "outputs": [
        {
          "output_type": "stream",
          "text": [
            "Can you here me now?\n"
          ],
          "name": "stdout"
        }
      ]
    }
  ]
}